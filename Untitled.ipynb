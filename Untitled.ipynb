{
 "cells": [
  {
   "cell_type": "code",
   "execution_count": 4,
   "id": "e0796fd7",
   "metadata": {
    "scrolled": false
   },
   "outputs": [
    {
     "data": {
      "text/html": [
       "<pre style=\"white-space:pre;overflow-x:auto;line-height:normal;font-family:Menlo,'DejaVu Sans Mono',consolas,'Courier New',monospace\"><span style=\"color: #7fbfbf; text-decoration-color: #7fbfbf\">[16:09:16] </span>Signing in to Finary using credentials in <span style=\"color: #008000; text-decoration-color: #008000\">'credentials.json'</span><span style=\"color: #808000; text-decoration-color: #808000\">...</span> <a href=\"file:///home/jack/programming/invest/finary_assistant/finary_assistant/finary_fetch.py\" target=\"_blank\"><span style=\"color: #7f7f7f; text-decoration-color: #7f7f7f\">finary_fetch.py</span></a><span style=\"color: #7f7f7f; text-decoration-color: #7f7f7f\">:</span><a href=\"file:///home/jack/programming/invest/finary_assistant/finary_assistant/finary_fetch.py#18\" target=\"_blank\"><span style=\"color: #7f7f7f; text-decoration-color: #7f7f7f\">18</span></a>\n",
       "</pre>\n"
      ],
      "text/plain": [
       "\u001b[2;36m[16:09:16]\u001b[0m\u001b[2;36m \u001b[0mSigning in to Finary using credentials in \u001b[32m'credentials.json'\u001b[0m\u001b[33m...\u001b[0m \u001b]8;id=362776;file:///home/jack/programming/invest/finary_assistant/finary_assistant/finary_fetch.py\u001b\\\u001b[2mfinary_fetch.py\u001b[0m\u001b]8;;\u001b\\\u001b[2m:\u001b[0m\u001b]8;id=263399;file:///home/jack/programming/invest/finary_assistant/finary_assistant/finary_fetch.py#18\u001b\\\u001b[2m18\u001b[0m\u001b]8;;\u001b\\\n"
      ]
     },
     "metadata": {},
     "output_type": "display_data"
    },
    {
     "data": {
      "application/vnd.jupyter.widget-view+json": {
       "model_id": "",
       "version_major": 2,
       "version_minor": 0
      },
      "text/plain": [
       "Output()"
      ]
     },
     "metadata": {},
     "output_type": "display_data"
    },
    {
     "data": {
      "text/html": [
       "<pre style=\"white-space:pre;overflow-x:auto;line-height:normal;font-family:Menlo,'DejaVu Sans Mono',consolas,'Courier New',monospace\"><span style=\"color: #7fbfbf; text-decoration-color: #7fbfbf\">[16:09:17] </span>Successfully signed in                                          <a href=\"file:///home/jack/programming/invest/finary_assistant/finary_assistant/finary_fetch.py\" target=\"_blank\"><span style=\"color: #7f7f7f; text-decoration-color: #7f7f7f\">finary_fetch.py</span></a><span style=\"color: #7f7f7f; text-decoration-color: #7f7f7f\">:</span><a href=\"file:///home/jack/programming/invest/finary_assistant/finary_assistant/finary_fetch.py#22\" target=\"_blank\"><span style=\"color: #7f7f7f; text-decoration-color: #7f7f7f\">22</span></a>\n",
       "</pre>\n"
      ],
      "text/plain": [
       "\u001b[2;36m[16:09:17]\u001b[0m\u001b[2;36m \u001b[0mSuccessfully signed in                                          \u001b]8;id=385568;file:///home/jack/programming/invest/finary_assistant/finary_assistant/finary_fetch.py\u001b\\\u001b[2mfinary_fetch.py\u001b[0m\u001b]8;;\u001b\\\u001b[2m:\u001b[0m\u001b]8;id=127771;file:///home/jack/programming/invest/finary_assistant/finary_assistant/finary_fetch.py#22\u001b\\\u001b[2m22\u001b[0m\u001b]8;;\u001b\\\n"
      ]
     },
     "metadata": {},
     "output_type": "display_data"
    },
    {
     "data": {
      "text/html": [
       "<pre style=\"white-space:pre;overflow-x:auto;line-height:normal;font-family:Menlo,'DejaVu Sans Mono',consolas,'Courier New',monospace\"><span style=\"color: #7fbfbf; text-decoration-color: #7fbfbf\">[16:09:18] </span>Fetching comptes courants<span style=\"color: #808000; text-decoration-color: #808000\">...</span>                                    <a href=\"file:///home/jack/programming/invest/finary_assistant/finary_assistant/finary_fetch.py\" target=\"_blank\"><span style=\"color: #7f7f7f; text-decoration-color: #7f7f7f\">finary_fetch.py</span></a><span style=\"color: #7f7f7f; text-decoration-color: #7f7f7f\">:</span><a href=\"file:///home/jack/programming/invest/finary_assistant/finary_assistant/finary_fetch.py#30\" target=\"_blank\"><span style=\"color: #7f7f7f; text-decoration-color: #7f7f7f\">30</span></a>\n",
       "</pre>\n"
      ],
      "text/plain": [
       "\u001b[2;36m[16:09:18]\u001b[0m\u001b[2;36m \u001b[0mFetching comptes courants\u001b[33m...\u001b[0m                                    \u001b]8;id=74844;file:///home/jack/programming/invest/finary_assistant/finary_assistant/finary_fetch.py\u001b\\\u001b[2mfinary_fetch.py\u001b[0m\u001b]8;;\u001b\\\u001b[2m:\u001b[0m\u001b]8;id=159849;file:///home/jack/programming/invest/finary_assistant/finary_assistant/finary_fetch.py#30\u001b\\\u001b[2m30\u001b[0m\u001b]8;;\u001b\\\n"
      ]
     },
     "metadata": {},
     "output_type": "display_data"
    },
    {
     "data": {
      "text/html": [
       "<pre style=\"white-space:pre;overflow-x:auto;line-height:normal;font-family:Menlo,'DejaVu Sans Mono',consolas,'Courier New',monospace\"><span style=\"color: #7fbfbf; text-decoration-color: #7fbfbf\">           </span>Fetching other assets<span style=\"color: #808000; text-decoration-color: #808000\">...</span>                                        <a href=\"file:///home/jack/programming/invest/finary_assistant/finary_assistant/finary_fetch.py\" target=\"_blank\"><span style=\"color: #7f7f7f; text-decoration-color: #7f7f7f\">finary_fetch.py</span></a><span style=\"color: #7f7f7f; text-decoration-color: #7f7f7f\">:</span><a href=\"file:///home/jack/programming/invest/finary_assistant/finary_assistant/finary_fetch.py#36\" target=\"_blank\"><span style=\"color: #7f7f7f; text-decoration-color: #7f7f7f\">36</span></a>\n",
       "</pre>\n"
      ],
      "text/plain": [
       "\u001b[2;36m          \u001b[0m\u001b[2;36m \u001b[0mFetching other assets\u001b[33m...\u001b[0m                                        \u001b]8;id=221338;file:///home/jack/programming/invest/finary_assistant/finary_assistant/finary_fetch.py\u001b\\\u001b[2mfinary_fetch.py\u001b[0m\u001b]8;;\u001b\\\u001b[2m:\u001b[0m\u001b]8;id=828420;file:///home/jack/programming/invest/finary_assistant/finary_assistant/finary_fetch.py#36\u001b\\\u001b[2m36\u001b[0m\u001b]8;;\u001b\\\n"
      ]
     },
     "metadata": {},
     "output_type": "display_data"
    },
    {
     "data": {
      "text/html": [
       "<pre style=\"white-space:pre;overflow-x:auto;line-height:normal;font-family:Menlo,'DejaVu Sans Mono',consolas,'Courier New',monospace\"><span style=\"color: #7fbfbf; text-decoration-color: #7fbfbf\">[16:09:19] </span>Fetching investments<span style=\"color: #808000; text-decoration-color: #808000\">...</span>                                         <a href=\"file:///home/jack/programming/invest/finary_assistant/finary_assistant/finary_fetch.py\" target=\"_blank\"><span style=\"color: #7f7f7f; text-decoration-color: #7f7f7f\">finary_fetch.py</span></a><span style=\"color: #7f7f7f; text-decoration-color: #7f7f7f\">:</span><a href=\"file:///home/jack/programming/invest/finary_assistant/finary_assistant/finary_fetch.py#44\" target=\"_blank\"><span style=\"color: #7f7f7f; text-decoration-color: #7f7f7f\">44</span></a>\n",
       "</pre>\n"
      ],
      "text/plain": [
       "\u001b[2;36m[16:09:19]\u001b[0m\u001b[2;36m \u001b[0mFetching investments\u001b[33m...\u001b[0m                                         \u001b]8;id=84684;file:///home/jack/programming/invest/finary_assistant/finary_assistant/finary_fetch.py\u001b\\\u001b[2mfinary_fetch.py\u001b[0m\u001b]8;;\u001b\\\u001b[2m:\u001b[0m\u001b]8;id=68801;file:///home/jack/programming/invest/finary_assistant/finary_assistant/finary_fetch.py#44\u001b\\\u001b[2m44\u001b[0m\u001b]8;;\u001b\\\n"
      ]
     },
     "metadata": {},
     "output_type": "display_data"
    },
    {
     "data": {
      "text/html": [
       "<pre style=\"white-space:pre;overflow-x:auto;line-height:normal;font-family:Menlo,'DejaVu Sans Mono',consolas,'Courier New',monospace\"></pre>\n"
      ],
      "text/plain": []
     },
     "metadata": {},
     "output_type": "display_data"
    },
    {
     "data": {
      "text/html": [
       "<pre style=\"white-space:pre;overflow-x:auto;line-height:normal;font-family:Menlo,'DejaVu Sans Mono',consolas,'Courier New',monospace\">\n",
       "\n",
       "                                                                                       \n",
       "                                                                                       \n",
       "                                                                                       \n",
       "╭──────────────────────────────────── Patrimoine ─────────────────────────────────────╮\n",
       "│                                                                                     │\n",
       "│    <span style=\"color: #000080; text-decoration-color: #000080\">‣ 37947 €</span> <span style=\"color: #000080; text-decoration-color: #000080; font-weight: bold\">Patrimoine</span>                                                             │\n",
       "│    <span style=\"color: #000080; text-decoration-color: #000080\">├── </span><span style=\"color: #000080; text-decoration-color: #000080\">‣  9165 €</span> <span style=\"color: #000080; text-decoration-color: #000080; font-weight: bold\">Court Terme</span>                                                        │\n",
       "│    <span style=\"color: #000080; text-decoration-color: #000080\">│   ├── </span><span style=\"color: #008000; text-decoration-color: #008000\">✓  242 €</span> <span style=\"color: #000080; text-decoration-color: #000080; font-weight: bold\">Quotidien</span><span style=\"color: #dfdfdf; text-decoration-color: #dfdfdf\"> - Range 100-500 €</span>                                     │\n",
       "│    <span style=\"color: #000080; text-decoration-color: #000080\">│   │   └── </span><span style=\"color: #000080; text-decoration-color: #000080\">‣ 242 €</span> N26                                                          │\n",
       "│    <span style=\"color: #000080; text-decoration-color: #000080\">│   ├── </span><span style=\"color: #808000; text-decoration-color: #808000\">≈  923 €</span> <span style=\"color: #000080; text-decoration-color: #000080; font-weight: bold\">Mensuel</span><span style=\"color: #dfdfdf; text-decoration-color: #dfdfdf\"> - Range 1000-2000 €</span>                                     │\n",
       "│    <span style=\"color: #000080; text-decoration-color: #000080\">│   │   ├── </span><span style=\"color: #000080; text-decoration-color: #000080\">‣  75 €</span> Boursorama                                                   │\n",
       "│    <span style=\"color: #000080; text-decoration-color: #000080\">│   │   └── </span><span style=\"color: #000080; text-decoration-color: #000080\">‣ 848 €</span> La Banque Postale                                            │\n",
       "│    <span style=\"color: #000080; text-decoration-color: #000080\">│   ├── </span><span style=\"color: #008000; text-decoration-color: #008000\">✓ 6000 €</span> <span style=\"color: #000080; text-decoration-color: #000080; font-weight: bold\">Précaution</span><span style=\"color: #dfdfdf; text-decoration-color: #dfdfdf\"> - Minimum 6000 €</span>                                     │\n",
       "│    <span style=\"color: #000080; text-decoration-color: #000080\">│   │   └── </span><span style=\"color: #000080; text-decoration-color: #000080\">‣ 6000 €</span> Livret A                                                    │\n",
       "│    <span style=\"color: #000080; text-decoration-color: #000080\">│   └── </span><span style=\"color: #008000; text-decoration-color: #008000\">✓ 2000 €</span> <span style=\"color: #000080; text-decoration-color: #000080; font-weight: bold\">Voyages &amp; Projets</span><span style=\"color: #dfdfdf; text-decoration-color: #dfdfdf\"> - Range 1500-2000 €</span>                           │\n",
       "│    <span style=\"color: #000080; text-decoration-color: #000080\">│       └── </span><span style=\"color: #000080; text-decoration-color: #000080\">‣ 2000 €</span> Livret A                                                    │\n",
       "│    <span style=\"color: #000080; text-decoration-color: #000080\">│           </span>                                                                     │\n",
       "│    <span style=\"color: #000080; text-decoration-color: #000080\">├── </span><span style=\"color: #008000; text-decoration-color: #008000\">✓ 20000 €</span> <span style=\"color: #000080; text-decoration-color: #000080; font-weight: bold\">Moyen Terme (1-8 ans)</span><span style=\"color: #dfdfdf; text-decoration-color: #dfdfdf\"> - Minimum 20000 €</span>                            │\n",
       "│    <span style=\"color: #000080; text-decoration-color: #000080\">│   ├── </span><span style=\"color: #000080; text-decoration-color: #000080\">‣ 15208 €</span> Livret A                                                       │\n",
       "│    <span style=\"color: #000080; text-decoration-color: #000080\">│   ├── </span><span style=\"color: #000080; text-decoration-color: #000080\">‣  1500 €</span> LDDS                                                           │\n",
       "│    <span style=\"color: #000080; text-decoration-color: #000080\">│   ├── </span><span style=\"color: #000080; text-decoration-color: #000080\">‣  1813 €</span> Livret Jeune                                                   │\n",
       "│    <span style=\"color: #000080; text-decoration-color: #000080\">│   └── </span><span style=\"color: #000080; text-decoration-color: #000080\">‣  1479 €</span> Fonds euro Linxea                                              │\n",
       "│    <span style=\"color: #000080; text-decoration-color: #000080\">│       </span>                                                                         │\n",
       "│    <span style=\"color: #000080; text-decoration-color: #000080\">├── </span><span style=\"color: #000080; text-decoration-color: #000080\">‣  3311 €</span> <span style=\"color: #000080; text-decoration-color: #000080; font-weight: bold\">Long Terme (10+ ans)</span>                                               │\n",
       "│    <span style=\"color: #000080; text-decoration-color: #000080\">│   ├── </span><span style=\"color: #800000; text-decoration-color: #800000\">↗   71 €</span><span style=\"color: #dfdfdf; text-decoration-color: #dfdfdf\"> ( 2%)</span> <span style=\"color: #000080; text-decoration-color: #000080; font-weight: bold\">Tranquille garanti</span><span style=\"color: #dfdfdf; text-decoration-color: #dfdfdf\"> → 25%</span>                                  │\n",
       "│    <span style=\"color: #000080; text-decoration-color: #000080\">│   │   └── </span><span style=\"color: #000080; text-decoration-color: #000080\">‣ 71 €</span> Fonds euro Linxea                                             │\n",
       "│    <span style=\"color: #000080; text-decoration-color: #000080\">│   ├── </span><span style=\"color: #008080; text-decoration-color: #008080\">↯    0 €</span><span style=\"color: #dfdfdf; text-decoration-color: #dfdfdf\"> ( 0%)</span> <span style=\"color: #000080; text-decoration-color: #000080; font-weight: bold\">SCPIs</span><span style=\"color: #dfdfdf; text-decoration-color: #dfdfdf\"> → 25%</span>                                               │\n",
       "│    <span style=\"color: #000080; text-decoration-color: #000080\">│   │   └── </span><span style=\"color: #008080; text-decoration-color: #008080\">↯ 0 €</span> Chercher...                                                    │\n",
       "│    <span style=\"color: #000080; text-decoration-color: #000080\">│   ├── </span><span style=\"color: #800080; text-decoration-color: #800080\">↘ 3240 €</span><span style=\"color: #dfdfdf; text-decoration-color: #dfdfdf\"> (98%)</span> <span style=\"color: #000080; text-decoration-color: #000080; font-weight: bold\">Actions</span><span style=\"color: #dfdfdf; text-decoration-color: #dfdfdf\"> → 40%</span>                                             │\n",
       "│    <span style=\"color: #000080; text-decoration-color: #000080\">│   │   ├── </span><span style=\"color: #008000; text-decoration-color: #008000\">✓ 1624 €</span><span style=\"color: #dfdfdf; text-decoration-color: #dfdfdf\"> (50%)</span> <span style=\"color: #000080; text-decoration-color: #000080; font-weight: bold\">ETFs World (Business as usual)</span><span style=\"color: #dfdfdf; text-decoration-color: #dfdfdf\"> → 50%</span>                  │\n",
       "│    <span style=\"color: #000080; text-decoration-color: #000080\">│   │   │   ├── </span><span style=\"color: #800080; text-decoration-color: #800080\">↘ 1235 €</span><span style=\"color: #dfdfdf; text-decoration-color: #dfdfdf\"> (76%)</span> SP500<span style=\"color: #dfdfdf; text-decoration-color: #dfdfdf\"> → 41%</span>                                       │\n",
       "│    <span style=\"color: #000080; text-decoration-color: #000080\">│   │   │   ├── </span><span style=\"color: #008080; text-decoration-color: #008080\">↯    0 €</span><span style=\"color: #dfdfdf; text-decoration-color: #dfdfdf\"> ( 0%)</span> Russell 2000<span style=\"color: #dfdfdf; text-decoration-color: #dfdfdf\"> → 9%</span>                                 │\n",
       "│    <span style=\"color: #000080; text-decoration-color: #000080\">│   │   │   ├── </span><span style=\"color: #800000; text-decoration-color: #800000\">↗   67 €</span><span style=\"color: #dfdfdf; text-decoration-color: #dfdfdf\"> ( 4%)</span> Europe 600<span style=\"color: #dfdfdf; text-decoration-color: #dfdfdf\"> → 25%</span>                                  │\n",
       "│    <span style=\"color: #000080; text-decoration-color: #000080\">│   │   │   ├── </span><span style=\"color: #008080; text-decoration-color: #008080\">↯    0 €</span><span style=\"color: #dfdfdf; text-decoration-color: #dfdfdf\"> ( 0%)</span> Europe Small Cap<span style=\"color: #dfdfdf; text-decoration-color: #dfdfdf\"> → 5%</span>                             │\n",
       "│    <span style=\"color: #000080; text-decoration-color: #000080\">│   │   │   ├── </span><span style=\"color: #808000; text-decoration-color: #808000\">≈  322 €</span><span style=\"color: #dfdfdf; text-decoration-color: #dfdfdf\"> (20%)</span> Emerging markets<span style=\"color: #dfdfdf; text-decoration-color: #dfdfdf\"> → 14%</span>                            │\n",
       "│    <span style=\"color: #000080; text-decoration-color: #000080\">│   │   │   └── </span><span style=\"color: #008080; text-decoration-color: #008080\">↯    0 €</span><span style=\"color: #dfdfdf; text-decoration-color: #dfdfdf\"> ( 0%)</span> Japon<span style=\"color: #dfdfdf; text-decoration-color: #dfdfdf\"> → 6%</span>                                        │\n",
       "│    <span style=\"color: #000080; text-decoration-color: #000080\">│   │   ├── </span><span style=\"color: #800000; text-decoration-color: #800000\">↗  816 €</span><span style=\"color: #dfdfdf; text-decoration-color: #dfdfdf\"> (25%)</span> <span style=\"color: #000080; text-decoration-color: #000080; font-weight: bold\">ETFs World (Croissance verte)</span><span style=\"color: #dfdfdf; text-decoration-color: #dfdfdf\"> → 40%</span>                   │\n",
       "│    <span style=\"color: #000080; text-decoration-color: #000080\">│   │   │   ├── </span><span style=\"color: #800000; text-decoration-color: #800000\">↗  65 €</span><span style=\"color: #dfdfdf; text-decoration-color: #dfdfdf\"> ( 8%)</span> World ESG<span style=\"color: #dfdfdf; text-decoration-color: #dfdfdf\"> → 50%</span>                                    │\n",
       "│    <span style=\"color: #000080; text-decoration-color: #000080\">│   │   │   ├── </span><span style=\"color: #800000; text-decoration-color: #800000\">↗  63 €</span><span style=\"color: #dfdfdf; text-decoration-color: #dfdfdf\"> ( 8%)</span> USA ESG<span style=\"color: #dfdfdf; text-decoration-color: #dfdfdf\"> → 30%</span>                                      │\n",
       "│    <span style=\"color: #000080; text-decoration-color: #000080\">│   │   │   ├── </span><span style=\"color: #800080; text-decoration-color: #800080\">↘ 576 €</span><span style=\"color: #dfdfdf; text-decoration-color: #dfdfdf\"> (71%)</span> Euro ESG (PEA)<span style=\"color: #dfdfdf; text-decoration-color: #dfdfdf\"> → 20%</span>                               │\n",
       "│    <span style=\"color: #000080; text-decoration-color: #000080\">│   │   │   ├── </span><span style=\"color: #800080; text-decoration-color: #800080\">↘  65 €</span><span style=\"color: #dfdfdf; text-decoration-color: #dfdfdf\"> ( 8%)</span> Euro ESG (AV)<span style=\"color: #dfdfdf; text-decoration-color: #dfdfdf\"> → 0%</span>                                 │\n",
       "│    <span style=\"color: #000080; text-decoration-color: #000080\">│   │   │   └── </span><span style=\"color: #808000; text-decoration-color: #808000\">≈  47 €</span><span style=\"color: #dfdfdf; text-decoration-color: #dfdfdf\"> ( 6%)</span> Emerging markets ESG<span style=\"color: #dfdfdf; text-decoration-color: #dfdfdf\"> → 10%</span>                         │\n",
       "│    <span style=\"color: #000080; text-decoration-color: #000080\">│   │   └── </span><span style=\"color: #800080; text-decoration-color: #800080\">↘  800 €</span><span style=\"color: #dfdfdf; text-decoration-color: #dfdfdf\"> (25%)</span> <span style=\"color: #000080; text-decoration-color: #000080; font-weight: bold\">Gestion pilotée ISR</span><span style=\"color: #dfdfdf; text-decoration-color: #dfdfdf\"> → 10%</span>                             │\n",
       "│    <span style=\"color: #000080; text-decoration-color: #000080\">│   │       └── </span><span style=\"color: #000080; text-decoration-color: #000080\">‣ 800 €</span> Goodvest                                                 │\n",
       "│    <span style=\"color: #000080; text-decoration-color: #000080\">│   └── </span><span style=\"color: #008080; text-decoration-color: #008080\">↯    0 €</span><span style=\"color: #dfdfdf; text-decoration-color: #dfdfdf\"> ( 0%)</span> <span style=\"color: #000080; text-decoration-color: #000080; font-weight: bold\">Satellites &amp; Fun</span><span style=\"color: #dfdfdf; text-decoration-color: #dfdfdf\"> → 10%</span>                                    │\n",
       "│    <span style=\"color: #000080; text-decoration-color: #000080\">│       ├── </span><span style=\"color: #008080; text-decoration-color: #008080\">↯ 0 €</span> Crowdfunding                                                   │\n",
       "│    <span style=\"color: #000080; text-decoration-color: #000080\">│       └── </span><span style=\"color: #008080; text-decoration-color: #008080\">↯ 0 €</span> Dividendes, forets, autres, ...                                │\n",
       "│    <span style=\"color: #000080; text-decoration-color: #000080\">│           </span>                                                                     │\n",
       "│    <span style=\"color: #000080; text-decoration-color: #000080\">├── </span><span style=\"color: #000080; text-decoration-color: #000080\">‣   260 €</span> <span style=\"color: #000080; text-decoration-color: #000080; font-weight: bold\">Retraite (investissements bloqués)</span>                                 │\n",
       "│    <span style=\"color: #000080; text-decoration-color: #000080\">│   ├── </span><span style=\"color: #000080; text-decoration-color: #000080\">‣ 260 €</span> Préfon                                                           │\n",
       "│    <span style=\"color: #000080; text-decoration-color: #000080\">│   └── </span><span style=\"color: #008080; text-decoration-color: #008080\">↯   0 €</span> Linxea Spirit PER                                                │\n",
       "│    <span style=\"color: #000080; text-decoration-color: #000080\">│       </span>                                                                         │\n",
       "│    <span style=\"color: #000080; text-decoration-color: #000080\">├── </span><span style=\"color: #008080; text-decoration-color: #008080\">↯     0 €</span><span style=\"color: #dfdfdf; text-decoration-color: #dfdfdf\"> ( 0%)</span> <span style=\"color: #000080; text-decoration-color: #000080; font-weight: bold\">Défense</span><span style=\"color: #dfdfdf; text-decoration-color: #dfdfdf\"> → 10%</span>                                                │\n",
       "│    <span style=\"color: #000080; text-decoration-color: #000080\">│   ├── </span><span style=\"color: #008080; text-decoration-color: #008080\">↯ 0 €</span><span style=\"color: #dfdfdf; text-decoration-color: #dfdfdf\"> ( 0%)</span> Or<span style=\"color: #dfdfdf; text-decoration-color: #dfdfdf\"> → 60%</span>                                                     │\n",
       "│    <span style=\"color: #000080; text-decoration-color: #000080\">│   ├── </span><span style=\"color: #008080; text-decoration-color: #008080\">↯ 0 €</span><span style=\"color: #dfdfdf; text-decoration-color: #dfdfdf\"> ( 0%)</span> Métaux<span style=\"color: #dfdfdf; text-decoration-color: #dfdfdf\"> → 20%</span>                                                 │\n",
       "│    <span style=\"color: #000080; text-decoration-color: #000080\">│   └── </span><span style=\"color: #008080; text-decoration-color: #008080\">↯ 0 €</span><span style=\"color: #dfdfdf; text-decoration-color: #dfdfdf\"> ( 0%)</span> Cryptos<span style=\"color: #dfdfdf; text-decoration-color: #dfdfdf\"> → 20%</span>                                                │\n",
       "│    <span style=\"color: #000080; text-decoration-color: #000080\">│       </span>                                                                         │\n",
       "│    <span style=\"color: #000080; text-decoration-color: #000080\">└── </span><span style=\"color: #000080; text-decoration-color: #000080\">‣  5211 €</span> <span style=\"color: #000080; text-decoration-color: #000080; font-weight: bold\">En attente (reventes passifs, liquidités, ...)</span>                     │\n",
       "│    <span style=\"color: #000080; text-decoration-color: #000080\">    ├── </span><span style=\"color: #000080; text-decoration-color: #000080\">‣ 5000 €</span> Moto                                                            │\n",
       "│    <span style=\"color: #000080; text-decoration-color: #000080\">    └── </span><span style=\"color: #000080; text-decoration-color: #000080\">‣  211 €</span> Liquidités PEA                                                  │\n",
       "│                                                                                     │\n",
       "╰─────────────────────────────────────────────────────────────────────────────────────╯\n",
       "                                                                                       \n",
       "                                                                                       \n",
       "╭──────────────────────────────────── Finary data ────────────────────────────────────╮\n",
       "│ <span style=\"color: #008080; text-decoration-color: #008080; font-weight: bold\">1165</span><span style=\"font-weight: bold\"> Comptes courants</span>                                                               │\n",
       "│ ├── <span style=\"color: #008080; text-decoration-color: #008080; font-weight: bold\">242</span> CCP N26                                                                     │\n",
       "│ ├── <span style=\"color: #008080; text-decoration-color: #008080; font-weight: bold\">848</span> CCP Banque Postale                                                          │\n",
       "│ └── <span style=\"color: #008080; text-decoration-color: #008080; font-weight: bold\">75</span> CCP Boursorama                                                               │\n",
       "│ <span style=\"color: #008080; text-decoration-color: #008080; font-weight: bold\">26520</span><span style=\"font-weight: bold\"> Livrets</span>                                                                       │\n",
       "│ ├── <span style=\"color: #008080; text-decoration-color: #008080; font-weight: bold\">1813</span> LIVRET JEUNE                                                               │\n",
       "│ ├── <span style=\"color: #008080; text-decoration-color: #008080; font-weight: bold\">1500</span> Livret de Developpement Durable et Solidaire                               │\n",
       "│ └── <span style=\"color: #008080; text-decoration-color: #008080; font-weight: bold\">23208</span> LIVRET A                                                                  │\n",
       "│ <span style=\"color: #008080; text-decoration-color: #008080; font-weight: bold\">1550</span><span style=\"font-weight: bold\"> Fonds euro</span>                                                                     │\n",
       "│ └── <span style=\"color: #008080; text-decoration-color: #008080; font-weight: bold\">1550</span> Fonds Euro Nouvelle Generation                                             │\n",
       "│ <span style=\"color: #008080; text-decoration-color: #008080; font-weight: bold\">6060</span><span style=\"font-weight: bold\"> Autres</span>                                                                         │\n",
       "│ ├── <span style=\"color: #008080; text-decoration-color: #008080; font-weight: bold\">5000</span> Moto Z650                                                                  │\n",
       "│ ├── <span style=\"color: #008080; text-decoration-color: #008080; font-weight: bold\">800</span> Goodvest                                                                    │\n",
       "│ └── <span style=\"color: #008080; text-decoration-color: #008080; font-weight: bold\">260</span> Prefon PER                                                                  │\n",
       "│ <span style=\"color: #008080; text-decoration-color: #008080; font-weight: bold\">2652</span><span style=\"font-weight: bold\"> Investissements</span>                                                                │\n",
       "│ ├── <span style=\"font-weight: bold\">Account: MR LACLAU PIERRE (Compte PEA)</span>                                          │\n",
       "│ │   ├── <span style=\"color: #008080; text-decoration-color: #008080; font-weight: bold\">576</span> Amundi EURO ISTOXX CLIMATE PARIS ALIGNED PAB UCITS ETF DR - EUR <span style=\"font-weight: bold\">(</span>C<span style=\"font-weight: bold\">)</span>     │\n",
       "│ │   ├── <span style=\"color: #008080; text-decoration-color: #008080; font-weight: bold\">322</span> Amundi PEA MSCI Emerging Markets UCITS ETF                              │\n",
       "│ │   ├── <span style=\"color: #008080; text-decoration-color: #008080; font-weight: bold\">211</span> Liquidites                                                              │\n",
       "│ │   ├── <span style=\"color: #008080; text-decoration-color: #008080; font-weight: bold\">1235</span> Amundi PEA S&amp;P <span style=\"color: #008080; text-decoration-color: #008080; font-weight: bold\">500</span> UCITS ETF                                           │\n",
       "│ │   └── <span style=\"color: #008080; text-decoration-color: #008080; font-weight: bold\">67</span> BNP Paribas Stoxx Europe <span style=\"color: #008080; text-decoration-color: #008080; font-weight: bold\">600</span> UCITS ETF Acc                               │\n",
       "│ └── <span style=\"font-weight: bold\">Account: LINXEA Spirit </span><span style=\"color: #008080; text-decoration-color: #008080; font-weight: bold\">2</span>                                                        │\n",
       "│     ├── <span style=\"color: #008080; text-decoration-color: #008080; font-weight: bold\">63</span> Amundi INDEX MSCI USA SRI UCITS ETF DR                                   │\n",
       "│     ├── <span style=\"color: #008080; text-decoration-color: #008080; font-weight: bold\">65</span> Amundi MSCI World SRI UCITS ETF DR                                       │\n",
       "│     ├── <span style=\"color: #008080; text-decoration-color: #008080; font-weight: bold\">65</span> Amundi INDEX MSCI EUROPE SRI UCITS ETF DR                                │\n",
       "│     └── <span style=\"color: #008080; text-decoration-color: #008080; font-weight: bold\">47</span> Amundi INDEX MSCI EMERGING MARKETS SRI UCITS ETF DR                      │\n",
       "╰─────────────────────────────────────────────────────────────────────────────────────╯\n",
       "</pre>\n"
      ],
      "text/plain": [
       "\n",
       "\n",
       "                                                                                       \n",
       "                                                                                       \n",
       "                                                                                       \n",
       "╭──────────────────────────────────── Patrimoine ─────────────────────────────────────╮\n",
       "│                                                                                     │\n",
       "│    \u001b[34m‣ 37947 €\u001b[0m \u001b[1;34mPatrimoine\u001b[0m                                                             │\n",
       "│    \u001b[34m├── \u001b[0m\u001b[34m‣  9165 €\u001b[0m \u001b[1;34mCourt Terme\u001b[0m                                                        │\n",
       "│    \u001b[34m│   \u001b[0m\u001b[34m├── \u001b[0m\u001b[32m✓  242 €\u001b[0m \u001b[1;34mQuotidien\u001b[0m\u001b[2;37m - Range 100-500 €\u001b[0m                                     │\n",
       "│    \u001b[34m│   \u001b[0m\u001b[34m│   \u001b[0m\u001b[34m└── \u001b[0m\u001b[34m‣ 242 €\u001b[0m N26                                                          │\n",
       "│    \u001b[34m│   \u001b[0m\u001b[34m├── \u001b[0m\u001b[33m≈  923 €\u001b[0m \u001b[1;34mMensuel\u001b[0m\u001b[2;37m - Range 1000-2000 €\u001b[0m                                     │\n",
       "│    \u001b[34m│   \u001b[0m\u001b[34m│   \u001b[0m\u001b[34m├── \u001b[0m\u001b[34m‣  75 €\u001b[0m Boursorama                                                   │\n",
       "│    \u001b[34m│   \u001b[0m\u001b[34m│   \u001b[0m\u001b[34m└── \u001b[0m\u001b[34m‣ 848 €\u001b[0m La Banque Postale                                            │\n",
       "│    \u001b[34m│   \u001b[0m\u001b[34m├── \u001b[0m\u001b[32m✓ 6000 €\u001b[0m \u001b[1;34mPrécaution\u001b[0m\u001b[2;37m - Minimum 6000 €\u001b[0m                                     │\n",
       "│    \u001b[34m│   \u001b[0m\u001b[34m│   \u001b[0m\u001b[34m└── \u001b[0m\u001b[34m‣ 6000 €\u001b[0m Livret A                                                    │\n",
       "│    \u001b[34m│   \u001b[0m\u001b[34m└── \u001b[0m\u001b[32m✓ 2000 €\u001b[0m \u001b[1;34mVoyages & Projets\u001b[0m\u001b[2;37m - Range 1500-2000 €\u001b[0m                           │\n",
       "│    \u001b[34m│   \u001b[0m\u001b[34m    \u001b[0m\u001b[34m└── \u001b[0m\u001b[34m‣ 2000 €\u001b[0m Livret A                                                    │\n",
       "│    \u001b[34m│   \u001b[0m\u001b[34m    \u001b[0m\u001b[34m    \u001b[0m                                                                     │\n",
       "│    \u001b[34m├── \u001b[0m\u001b[32m✓ 20000 €\u001b[0m \u001b[1;34mMoyen Terme (1-8 ans)\u001b[0m\u001b[2;37m - Minimum 20000 €\u001b[0m                            │\n",
       "│    \u001b[34m│   \u001b[0m\u001b[34m├── \u001b[0m\u001b[34m‣ 15208 €\u001b[0m Livret A                                                       │\n",
       "│    \u001b[34m│   \u001b[0m\u001b[34m├── \u001b[0m\u001b[34m‣  1500 €\u001b[0m LDDS                                                           │\n",
       "│    \u001b[34m│   \u001b[0m\u001b[34m├── \u001b[0m\u001b[34m‣  1813 €\u001b[0m Livret Jeune                                                   │\n",
       "│    \u001b[34m│   \u001b[0m\u001b[34m└── \u001b[0m\u001b[34m‣  1479 €\u001b[0m Fonds euro Linxea                                              │\n",
       "│    \u001b[34m│   \u001b[0m\u001b[34m    \u001b[0m                                                                         │\n",
       "│    \u001b[34m├── \u001b[0m\u001b[34m‣  3311 €\u001b[0m \u001b[1;34mLong Terme (10+ ans)\u001b[0m                                               │\n",
       "│    \u001b[34m│   \u001b[0m\u001b[34m├── \u001b[0m\u001b[31m↗   71 €\u001b[0m\u001b[2;37m ( 2%)\u001b[0m \u001b[1;34mTranquille garanti\u001b[0m\u001b[2;37m → 25%\u001b[0m                                  │\n",
       "│    \u001b[34m│   \u001b[0m\u001b[34m│   \u001b[0m\u001b[34m└── \u001b[0m\u001b[34m‣ 71 €\u001b[0m Fonds euro Linxea                                             │\n",
       "│    \u001b[34m│   \u001b[0m\u001b[34m├── \u001b[0m\u001b[36m↯    0 €\u001b[0m\u001b[2;37m ( 0%)\u001b[0m \u001b[1;34mSCPIs\u001b[0m\u001b[2;37m → 25%\u001b[0m                                               │\n",
       "│    \u001b[34m│   \u001b[0m\u001b[34m│   \u001b[0m\u001b[34m└── \u001b[0m\u001b[36m↯ 0 €\u001b[0m Chercher...                                                    │\n",
       "│    \u001b[34m│   \u001b[0m\u001b[34m├── \u001b[0m\u001b[35m↘ 3240 €\u001b[0m\u001b[2;37m (98%)\u001b[0m \u001b[1;34mActions\u001b[0m\u001b[2;37m → 40%\u001b[0m                                             │\n",
       "│    \u001b[34m│   \u001b[0m\u001b[34m│   \u001b[0m\u001b[34m├── \u001b[0m\u001b[32m✓ 1624 €\u001b[0m\u001b[2;37m (50%)\u001b[0m \u001b[1;34mETFs World (Business as usual)\u001b[0m\u001b[2;37m → 50%\u001b[0m                  │\n",
       "│    \u001b[34m│   \u001b[0m\u001b[34m│   \u001b[0m\u001b[34m│   \u001b[0m\u001b[34m├── \u001b[0m\u001b[35m↘ 1235 €\u001b[0m\u001b[2;37m (76%)\u001b[0m SP500\u001b[2;37m → 41%\u001b[0m                                       │\n",
       "│    \u001b[34m│   \u001b[0m\u001b[34m│   \u001b[0m\u001b[34m│   \u001b[0m\u001b[34m├── \u001b[0m\u001b[36m↯    0 €\u001b[0m\u001b[2;37m ( 0%)\u001b[0m Russell 2000\u001b[2;37m → 9%\u001b[0m                                 │\n",
       "│    \u001b[34m│   \u001b[0m\u001b[34m│   \u001b[0m\u001b[34m│   \u001b[0m\u001b[34m├── \u001b[0m\u001b[31m↗   67 €\u001b[0m\u001b[2;37m ( 4%)\u001b[0m Europe 600\u001b[2;37m → 25%\u001b[0m                                  │\n",
       "│    \u001b[34m│   \u001b[0m\u001b[34m│   \u001b[0m\u001b[34m│   \u001b[0m\u001b[34m├── \u001b[0m\u001b[36m↯    0 €\u001b[0m\u001b[2;37m ( 0%)\u001b[0m Europe Small Cap\u001b[2;37m → 5%\u001b[0m                             │\n",
       "│    \u001b[34m│   \u001b[0m\u001b[34m│   \u001b[0m\u001b[34m│   \u001b[0m\u001b[34m├── \u001b[0m\u001b[33m≈  322 €\u001b[0m\u001b[2;37m (20%)\u001b[0m Emerging markets\u001b[2;37m → 14%\u001b[0m                            │\n",
       "│    \u001b[34m│   \u001b[0m\u001b[34m│   \u001b[0m\u001b[34m│   \u001b[0m\u001b[34m└── \u001b[0m\u001b[36m↯    0 €\u001b[0m\u001b[2;37m ( 0%)\u001b[0m Japon\u001b[2;37m → 6%\u001b[0m                                        │\n",
       "│    \u001b[34m│   \u001b[0m\u001b[34m│   \u001b[0m\u001b[34m├── \u001b[0m\u001b[31m↗  816 €\u001b[0m\u001b[2;37m (25%)\u001b[0m \u001b[1;34mETFs World (Croissance verte)\u001b[0m\u001b[2;37m → 40%\u001b[0m                   │\n",
       "│    \u001b[34m│   \u001b[0m\u001b[34m│   \u001b[0m\u001b[34m│   \u001b[0m\u001b[34m├── \u001b[0m\u001b[31m↗  65 €\u001b[0m\u001b[2;37m ( 8%)\u001b[0m World ESG\u001b[2;37m → 50%\u001b[0m                                    │\n",
       "│    \u001b[34m│   \u001b[0m\u001b[34m│   \u001b[0m\u001b[34m│   \u001b[0m\u001b[34m├── \u001b[0m\u001b[31m↗  63 €\u001b[0m\u001b[2;37m ( 8%)\u001b[0m USA ESG\u001b[2;37m → 30%\u001b[0m                                      │\n",
       "│    \u001b[34m│   \u001b[0m\u001b[34m│   \u001b[0m\u001b[34m│   \u001b[0m\u001b[34m├── \u001b[0m\u001b[35m↘ 576 €\u001b[0m\u001b[2;37m (71%)\u001b[0m Euro ESG (PEA)\u001b[2;37m → 20%\u001b[0m                               │\n",
       "│    \u001b[34m│   \u001b[0m\u001b[34m│   \u001b[0m\u001b[34m│   \u001b[0m\u001b[34m├── \u001b[0m\u001b[35m↘  65 €\u001b[0m\u001b[2;37m ( 8%)\u001b[0m Euro ESG (AV)\u001b[2;37m → 0%\u001b[0m                                 │\n",
       "│    \u001b[34m│   \u001b[0m\u001b[34m│   \u001b[0m\u001b[34m│   \u001b[0m\u001b[34m└── \u001b[0m\u001b[33m≈  47 €\u001b[0m\u001b[2;37m ( 6%)\u001b[0m Emerging markets ESG\u001b[2;37m → 10%\u001b[0m                         │\n",
       "│    \u001b[34m│   \u001b[0m\u001b[34m│   \u001b[0m\u001b[34m└── \u001b[0m\u001b[35m↘  800 €\u001b[0m\u001b[2;37m (25%)\u001b[0m \u001b[1;34mGestion pilotée ISR\u001b[0m\u001b[2;37m → 10%\u001b[0m                             │\n",
       "│    \u001b[34m│   \u001b[0m\u001b[34m│   \u001b[0m\u001b[34m    \u001b[0m\u001b[34m└── \u001b[0m\u001b[34m‣ 800 €\u001b[0m Goodvest                                                 │\n",
       "│    \u001b[34m│   \u001b[0m\u001b[34m└── \u001b[0m\u001b[36m↯    0 €\u001b[0m\u001b[2;37m ( 0%)\u001b[0m \u001b[1;34mSatellites & Fun\u001b[0m\u001b[2;37m → 10%\u001b[0m                                    │\n",
       "│    \u001b[34m│   \u001b[0m\u001b[34m    \u001b[0m\u001b[34m├── \u001b[0m\u001b[36m↯ 0 €\u001b[0m Crowdfunding                                                   │\n",
       "│    \u001b[34m│   \u001b[0m\u001b[34m    \u001b[0m\u001b[34m└── \u001b[0m\u001b[36m↯ 0 €\u001b[0m Dividendes, forets, autres, ...                                │\n",
       "│    \u001b[34m│   \u001b[0m\u001b[34m    \u001b[0m\u001b[34m    \u001b[0m                                                                     │\n",
       "│    \u001b[34m├── \u001b[0m\u001b[34m‣   260 €\u001b[0m \u001b[1;34mRetraite (investissements bloqués)\u001b[0m                                 │\n",
       "│    \u001b[34m│   \u001b[0m\u001b[34m├── \u001b[0m\u001b[34m‣ 260 €\u001b[0m Préfon                                                           │\n",
       "│    \u001b[34m│   \u001b[0m\u001b[34m└── \u001b[0m\u001b[36m↯   0 €\u001b[0m Linxea Spirit PER                                                │\n",
       "│    \u001b[34m│   \u001b[0m\u001b[34m    \u001b[0m                                                                         │\n",
       "│    \u001b[34m├── \u001b[0m\u001b[36m↯     0 €\u001b[0m\u001b[2;37m ( 0%)\u001b[0m \u001b[1;34mDéfense\u001b[0m\u001b[2;37m → 10%\u001b[0m                                                │\n",
       "│    \u001b[34m│   \u001b[0m\u001b[34m├── \u001b[0m\u001b[36m↯ 0 €\u001b[0m\u001b[2;37m ( 0%)\u001b[0m Or\u001b[2;37m → 60%\u001b[0m                                                     │\n",
       "│    \u001b[34m│   \u001b[0m\u001b[34m├── \u001b[0m\u001b[36m↯ 0 €\u001b[0m\u001b[2;37m ( 0%)\u001b[0m Métaux\u001b[2;37m → 20%\u001b[0m                                                 │\n",
       "│    \u001b[34m│   \u001b[0m\u001b[34m└── \u001b[0m\u001b[36m↯ 0 €\u001b[0m\u001b[2;37m ( 0%)\u001b[0m Cryptos\u001b[2;37m → 20%\u001b[0m                                                │\n",
       "│    \u001b[34m│   \u001b[0m\u001b[34m    \u001b[0m                                                                         │\n",
       "│    \u001b[34m└── \u001b[0m\u001b[34m‣  5211 €\u001b[0m \u001b[1;34mEn attente (reventes passifs, liquidités, ...)\u001b[0m                     │\n",
       "│    \u001b[34m    \u001b[0m\u001b[34m├── \u001b[0m\u001b[34m‣ 5000 €\u001b[0m Moto                                                            │\n",
       "│    \u001b[34m    \u001b[0m\u001b[34m└── \u001b[0m\u001b[34m‣  211 €\u001b[0m Liquidités PEA                                                  │\n",
       "│                                                                                     │\n",
       "╰─────────────────────────────────────────────────────────────────────────────────────╯\n",
       "                                                                                       \n",
       "                                                                                       \n",
       "╭──────────────────────────────────── Finary data ────────────────────────────────────╮\n",
       "│ \u001b[1;36m1165\u001b[0m\u001b[1m Comptes courants\u001b[0m                                                               │\n",
       "│ ├── \u001b[1;36m242\u001b[0m CCP N26                                                                     │\n",
       "│ ├── \u001b[1;36m848\u001b[0m CCP Banque Postale                                                          │\n",
       "│ └── \u001b[1;36m75\u001b[0m CCP Boursorama                                                               │\n",
       "│ \u001b[1;36m26520\u001b[0m\u001b[1m Livrets\u001b[0m                                                                       │\n",
       "│ ├── \u001b[1;36m1813\u001b[0m LIVRET JEUNE                                                               │\n",
       "│ ├── \u001b[1;36m1500\u001b[0m Livret de Developpement Durable et Solidaire                               │\n",
       "│ └── \u001b[1;36m23208\u001b[0m LIVRET A                                                                  │\n",
       "│ \u001b[1;36m1550\u001b[0m\u001b[1m Fonds euro\u001b[0m                                                                     │\n",
       "│ └── \u001b[1;36m1550\u001b[0m Fonds Euro Nouvelle Generation                                             │\n",
       "│ \u001b[1;36m6060\u001b[0m\u001b[1m Autres\u001b[0m                                                                         │\n",
       "│ ├── \u001b[1;36m5000\u001b[0m Moto Z650                                                                  │\n",
       "│ ├── \u001b[1;36m800\u001b[0m Goodvest                                                                    │\n",
       "│ └── \u001b[1;36m260\u001b[0m Prefon PER                                                                  │\n",
       "│ \u001b[1;36m2652\u001b[0m\u001b[1m Investissements\u001b[0m                                                                │\n",
       "│ ├── \u001b[1mAccount: MR LACLAU PIERRE \u001b[0m\u001b[1m(\u001b[0m\u001b[1mCompte PEA\u001b[0m\u001b[1m)\u001b[0m                                          │\n",
       "│ │   ├── \u001b[1;36m576\u001b[0m Amundi EURO ISTOXX CLIMATE PARIS ALIGNED PAB UCITS ETF DR - EUR \u001b[1m(\u001b[0mC\u001b[1m)\u001b[0m     │\n",
       "│ │   ├── \u001b[1;36m322\u001b[0m Amundi PEA MSCI Emerging Markets UCITS ETF                              │\n",
       "│ │   ├── \u001b[1;36m211\u001b[0m Liquidites                                                              │\n",
       "│ │   ├── \u001b[1;36m1235\u001b[0m Amundi PEA S&P \u001b[1;36m500\u001b[0m UCITS ETF                                           │\n",
       "│ │   └── \u001b[1;36m67\u001b[0m BNP Paribas Stoxx Europe \u001b[1;36m600\u001b[0m UCITS ETF Acc                               │\n",
       "│ └── \u001b[1mAccount: LINXEA Spirit \u001b[0m\u001b[1;36m2\u001b[0m                                                        │\n",
       "│     ├── \u001b[1;36m63\u001b[0m Amundi INDEX MSCI USA SRI UCITS ETF DR                                   │\n",
       "│     ├── \u001b[1;36m65\u001b[0m Amundi MSCI World SRI UCITS ETF DR                                       │\n",
       "│     ├── \u001b[1;36m65\u001b[0m Amundi INDEX MSCI EUROPE SRI UCITS ETF DR                                │\n",
       "│     └── \u001b[1;36m47\u001b[0m Amundi INDEX MSCI EMERGING MARKETS SRI UCITS ETF DR                      │\n",
       "╰─────────────────────────────────────────────────────────────────────────────────────╯\n"
      ]
     },
     "metadata": {},
     "output_type": "display_data"
    }
   ],
   "source": [
    "from assistant import *\n",
    "from rich.jupyter import print\n",
    "\n",
    "bucket_garanti = Bucket([\n",
    "    Line('Livret A', key='LIVRET A'),\n",
    "    Line('LDDS', key='Livret de Developpement Durable et Solidaire'),\n",
    "    Line('Livret Jeune', key='LIVRET JEUNE'),\n",
    "    Line('Fonds euro Linxea', key='Fonds Euro Nouvelle Generation'),\n",
    "])\n",
    "\n",
    "patrimoine = Folder('Patrimoine', children=[\n",
    "    Folder('Court Terme', newline=True, children=[\n",
    "        Folder('Quotidien', target=TargetRange(100, 500, tolerance=100), children=[\n",
    "            Line('N26', key='CCP N26'),\n",
    "        ]),\n",
    "        Folder('Mensuel', target=TargetRange(1000, 2000, tolerance=500), children=[\n",
    "            Line('Boursorama', key='CCP Boursorama'),\n",
    "            Line('La Banque Postale', key='CCP Banque Postale')\n",
    "        ]),\n",
    "        SharedFolder('Précaution', bucket=bucket_garanti, target_amount=6000, target=TargetMin(6000)),\n",
    "        SharedFolder('Voyages & Projets', bucket=bucket_garanti, target_amount=2000, target=TargetRange(1500, 2000, tolerance=500)),\n",
    "    ]),\n",
    "    SharedFolder('Moyen Terme (1-8 ans)', bucket=bucket_garanti, target_amount=20000, target=TargetMin(20000), newline=True),\n",
    "    Folder('Long Terme (10+ ans)', children=[\n",
    "        SharedFolder('Tranquille garanti', bucket=bucket_garanti, target=TargetRatio(25)),\n",
    "        Folder('SCPIs', target=TargetRatio(25), children=[\n",
    "            Line('Chercher...'),\n",
    "        ]),\n",
    "        Folder('Actions', target=TargetRatio(40), children=[\n",
    "            Folder('ETFs World (Business as usual)', target=TargetRatio(50), children=[\n",
    "                Line('SP500', key='Amundi PEA S&P 500 UCITS ETF', target=TargetRatio(41)),\n",
    "                Line('Russell 2000', key='', target=TargetRatio(9)),\n",
    "                Line('Europe 600', key='BNP Paribas Stoxx Europe 600 UCITS ETF Acc', target=TargetRatio(25)),\n",
    "                Line('Europe Small Cap', key='', target=TargetRatio(5)),\n",
    "                Line('Emerging markets', key='Amundi PEA MSCI Emerging Markets UCITS ETF', target=TargetRatio(14)),\n",
    "                Line('Japon', key='', target=TargetRatio(6))\n",
    "            ]),\n",
    "            Folder('ETFs World (Croissance verte)', target=TargetRatio(40), children=[\n",
    "                Line('World ESG', key='Amundi MSCI World SRI UCITS ETF DR', target=TargetRatio(50)),\n",
    "                Line('USA ESG', key='Amundi INDEX MSCI USA SRI UCITS ETF DR', target=TargetRatio(30)),\n",
    "                Line('Euro ESG (PEA)', key='Amundi EURO ISTOXX CLIMATE PARIS ALIGNED PAB UCITS ETF DR - EUR (C)', target=TargetRatio(20)),\n",
    "                Line('Euro ESG (AV)', key='Amundi INDEX MSCI EUROPE SRI UCITS ETF DR', target=TargetRatio(0)),\n",
    "                Line('Emerging markets ESG', key='Amundi INDEX MSCI EMERGING MARKETS SRI UCITS ETF DR', target=TargetRatio(10)),\n",
    "            ]),\n",
    "            Folder('Gestion pilotée ISR', target=TargetRatio(10), children=[\n",
    "                Line('Goodvest'),\n",
    "            ]),\n",
    "        ]),\n",
    "        Folder('Satellites & Fun', newline=True, target=TargetRatio(10), children=[\n",
    "            Line('Crowdfunding'),\n",
    "            Line('Dividendes, forets, autres, ...'),\n",
    "        ]),\n",
    "    ]),\n",
    "    Folder('Retraite (investissements bloqués)', newline=True, children=[\n",
    "        Line('Préfon', key='Prefon PER'),\n",
    "        Line('Linxea Spirit PER'),\n",
    "    ]),\n",
    "    Folder('Défense', newline=True, target=TargetRatio(10), children=[\n",
    "        Line('Or', target=TargetRatio(60)),\n",
    "        Line('Métaux', target=TargetRatio(20)),\n",
    "        Line('Cryptos', target=TargetRatio(20)),\n",
    "    ]),\n",
    "    Folder('En attente (reventes passifs, liquidités, ...)', children=[\n",
    "        Line('Moto', key='Moto Z650'),\n",
    "        Line('Liquidités PEA', key='Liquidites'),\n",
    "    ]),\n",
    "])\n",
    "\n",
    "# Fill tree with current valuations fetched from Finary\n",
    "with console.status('[bold green]Fetching data from Finary...') as status:\n",
    "    finary_tree = finary_fetch(patrimoine)\n",
    "\n",
    "# Mandatory step after fetching to process some targets and buckets\n",
    "patrimoine.process()\n",
    "\n",
    "# Display the final tree and fetched data coming from Finary\n",
    "console.print('\\n', Columns([\n",
    "    Text(''), \n",
    "    Panel(patrimoine.build_tree(hide_root=False), title='Patrimoine', padding=(1, 4)), \n",
    "    Panel(finary_tree, title='Finary data')\n",
    "    ], padding=(2, 10))\n",
    ")"
   ]
  },
  {
   "cell_type": "code",
   "execution_count": null,
   "id": "93dde638",
   "metadata": {},
   "outputs": [],
   "source": []
  }
 ],
 "metadata": {
  "kernelspec": {
   "display_name": "Python 3 (ipykernel)",
   "language": "python",
   "name": "python3"
  },
  "language_info": {
   "codemirror_mode": {
    "name": "ipython",
    "version": 3
   },
   "file_extension": ".py",
   "mimetype": "text/x-python",
   "name": "python",
   "nbconvert_exporter": "python",
   "pygments_lexer": "ipython3",
   "version": "3.8.10"
  }
 },
 "nbformat": 4,
 "nbformat_minor": 5
}
